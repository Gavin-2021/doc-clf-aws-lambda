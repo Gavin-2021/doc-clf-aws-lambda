{
 "cells": [
  {
   "cell_type": "code",
   "execution_count": 1,
   "id": "attractive-kennedy",
   "metadata": {},
   "outputs": [],
   "source": [
    "import pandas as pd\n",
    "import numpy as np\n",
    "import matplotlib.pyplot as plt \n",
    "from sklearn.base import BaseEstimator\n",
    "from sklearn.model_selection import train_test_split, cross_val_score, RepeatedStratifiedKFold, GridSearchCV\n",
    "from imblearn.over_sampling import RandomOverSampler\n",
    "from imblearn.pipeline import Pipeline\n",
    "#from sklearn.pipeline import Pipeline\n",
    "from sklearn.feature_extraction.text import TfidfVectorizer\n",
    "from sklearn.naive_bayes import MultinomialNB\n",
    "from sklearn.ensemble import RandomForestClassifier, GradientBoostingClassifier, AdaBoostClassifier\n",
    "from sklearn.neural_network import MLPClassifier\n",
    "from xgboost import XGBRegressor\n",
    "from sklearn import metrics\n",
    "from sklearn.metrics import accuracy_score, plot_confusion_matrix\n",
    "import joblib\n",
    "from sklearn.model_selection import RandomizedSearchCV"
   ]
  },
  {
   "cell_type": "code",
   "execution_count": 2,
   "id": "variable-bailey",
   "metadata": {},
   "outputs": [],
   "source": [
    "class ClfSwitcher(BaseEstimator):\n",
    "\n",
    "    \n",
    "    def __init__(self, estimator = MultinomialNB()):\n",
    "        \"\"\"\n",
    "        A Custom BaseEstimator that can switch between classifiers.\n",
    "        :param estimator: sklearn object - The classifier\n",
    "        \"\"\" \n",
    "        self.estimator = estimator\n",
    "\n",
    "    def fit(self, X, y=None, **kwargs):\n",
    "        self.estimator.fit(X, y)\n",
    "        return self\n",
    "\n",
    "    def predict(self, X, y=None):\n",
    "        return self.estimator.predict(X)\n",
    "\n",
    "    def predict_proba(self, X):\n",
    "        return self.estimator.predict_proba(X)\n",
    "\n",
    "    def score(self, X, y):\n",
    "        return self.estimator.score(X, y)"
   ]
  },
  {
   "cell_type": "code",
   "execution_count": 2,
   "id": "utility-appeal",
   "metadata": {},
   "outputs": [],
   "source": [
    "df = pd.read_csv(\"shuffled-full-set-hashed.csv\", sep = \",\", names = ['label', 'text'])\n",
    "df.dropna(inplace=True)\n",
    "#df.columns\n",
    "#df.head()\n",
    "#df.shape\n",
    "#df[\"label\"].unique()\n",
    "#len(df[\"label\"].unique())\n",
    "#df.isnull().any()\n",
    "#df[df['text'].isnull()].shape\n",
    "#df.groupby('label').size()"
   ]
  },
  {
   "cell_type": "code",
   "execution_count": 3,
   "id": "democratic-netscape",
   "metadata": {},
   "outputs": [],
   "source": [
    "# training and testing set split\n",
    "X_train, X_test, y_train, y_test = train_test_split(\n",
    "    df['text'], \n",
    "    df['label'], \n",
    "    test_size=0.3,\n",
    "    random_state=999, \n",
    "    stratify= df['label']\n",
    ")"
   ]
  },
  {
   "cell_type": "code",
   "execution_count": 5,
   "id": "becoming-boring",
   "metadata": {},
   "outputs": [],
   "source": [
    "# define pipeline\n",
    "pipeline = Pipeline(\n",
    "    [('tfidf', TfidfVectorizer()),\n",
    "     ('over', RandomOverSampler(sampling_strategy='minority')),\n",
    "     ('clf', ClfSwitcher())\n",
    "    ])"
   ]
  },
  {
   "cell_type": "code",
   "execution_count": 6,
   "id": "silent-vertical",
   "metadata": {},
   "outputs": [],
   "source": [
    "parameters = [\n",
    "    {'clf__estimator': [MultinomialNB()]},\n",
    "    #{'clf__estimator': [AdaBoostClassifier()]},\n",
    "    #{'clf__estimator': [MLPClassifier()]},\n",
    "    #{'clf__estimator': [GradientBoostingClassifier()]},\n",
    "    {'clf__estimator': [RandomForestClassifier(max_depth = 20)]}\n",
    "]\n",
    "cv = RepeatedStratifiedKFold(n_splits=4, n_repeats=2)\n",
    "gscv = GridSearchCV(\n",
    "    pipeline, \n",
    "    parameters, \n",
    "    cv=cv, \n",
    "    n_jobs=8, \n",
    "    scoring='f1_micro', \n",
    "    return_train_score=False, \n",
    "    verbose=3)"
   ]
  },
  {
   "cell_type": "code",
   "execution_count": 7,
   "id": "applicable-integration",
   "metadata": {
    "scrolled": false
   },
   "outputs": [
    {
     "name": "stdout",
     "output_type": "stream",
     "text": [
      "Fitting 8 folds for each of 2 candidates, totalling 16 fits\n"
     ]
    },
    {
     "data": {
      "text/plain": [
       "GridSearchCV(cv=RepeatedStratifiedKFold(n_repeats=2, n_splits=4, random_state=None),\n",
       "             estimator=Pipeline(steps=[('tfidf', TfidfVectorizer()),\n",
       "                                       ('over',\n",
       "                                        RandomOverSampler(sampling_strategy='minority')),\n",
       "                                       ('clf', ClfSwitcher())]),\n",
       "             n_jobs=8,\n",
       "             param_grid=[{'clf__estimator': [MultinomialNB()]},\n",
       "                         {'clf__estimator': [RandomForestClassifier(max_depth=20)]}],\n",
       "             scoring='f1_micro', verbose=3)"
      ]
     },
     "execution_count": 7,
     "metadata": {},
     "output_type": "execute_result"
    }
   ],
   "source": [
    "%timeit \n",
    "gscv.fit(X_train, y_train)"
   ]
  },
  {
   "cell_type": "code",
   "execution_count": null,
   "id": "green-mississippi",
   "metadata": {},
   "outputs": [],
   "source": [
    "#joblib.dump(gscv.best_estimator_, 'doc_clf_best_estimator.pkl')"
   ]
  },
  {
   "cell_type": "code",
   "execution_count": 8,
   "id": "confused-algorithm",
   "metadata": {},
   "outputs": [
    {
     "name": "stdout",
     "output_type": "stream",
     "text": [
      "0.7223691496854725\n"
     ]
    }
   ],
   "source": [
    "print(gscv.best_score_)"
   ]
  },
  {
   "cell_type": "code",
   "execution_count": 9,
   "id": "narrow-portsmouth",
   "metadata": {
    "scrolled": true
   },
   "outputs": [
    {
     "name": "stdout",
     "output_type": "stream",
     "text": [
      "Pipeline(steps=[('tfidf', TfidfVectorizer()),\n",
      "                ('over', RandomOverSampler(sampling_strategy='minority')),\n",
      "                ('clf',\n",
      "                 ClfSwitcher(estimator=RandomForestClassifier(max_depth=20)))])\n"
     ]
    }
   ],
   "source": [
    "print(gscv.best_estimator_)"
   ]
  },
  {
   "cell_type": "code",
   "execution_count": 10,
   "id": "roman-employee",
   "metadata": {},
   "outputs": [
    {
     "data": {
      "text/plain": [
       "{'mean_fit_time': array([ 23.08624375, 156.48529518]),\n",
       " 'std_fit_time': array([0.54787634, 5.4427833 ]),\n",
       " 'mean_score_time': array([6.23491243, 7.53398657]),\n",
       " 'std_score_time': array([0.29597938, 1.1109708 ]),\n",
       " 'param_clf__estimator': masked_array(data=[MultinomialNB(), RandomForestClassifier(max_depth=20)],\n",
       "              mask=[False, False],\n",
       "        fill_value='?',\n",
       "             dtype=object),\n",
       " 'params': [{'clf__estimator': MultinomialNB()},\n",
       "  {'clf__estimator': RandomForestClassifier(max_depth=20)}],\n",
       " 'split0_test_score': array([0.50726236, 0.72219158]),\n",
       " 'split1_test_score': array([0.50441258, 0.73129252]),\n",
       " 'split2_test_score': array([0.51176687, 0.72421401]),\n",
       " 'split3_test_score': array([0.50298796, 0.72418865]),\n",
       " 'split4_test_score': array([0.50900901, 0.713918  ]),\n",
       " 'split5_test_score': array([0.5       , 0.71483729]),\n",
       " 'split6_test_score': array([0.502574  , 0.71961758]),\n",
       " 'split7_test_score': array([0.51071067, 0.72869357]),\n",
       " 'mean_test_score': array([0.50609043, 0.72236915]),\n",
       " 'std_test_score': array([0.00395852, 0.00572377]),\n",
       " 'rank_test_score': array([2, 1], dtype=int32)}"
      ]
     },
     "execution_count": 10,
     "metadata": {},
     "output_type": "execute_result"
    }
   ],
   "source": [
    "gscv.cv_results_"
   ]
  },
  {
   "cell_type": "code",
   "execution_count": 12,
   "id": "moderate-postage",
   "metadata": {},
   "outputs": [],
   "source": [
    "pipeline_rf = Pipeline(\n",
    "    [('tfidf', TfidfVectorizer()),\n",
    "     ('over', RandomOverSampler(sampling_strategy='minority')),\n",
    "     ('rf', RandomForestClassifier())\n",
    "    ])"
   ]
  },
  {
   "cell_type": "code",
   "execution_count": 14,
   "id": "sophisticated-eligibility",
   "metadata": {},
   "outputs": [],
   "source": [
    "#sorted(pipeline_rf.get_params().keys())"
   ]
  },
  {
   "cell_type": "code",
   "execution_count": 47,
   "id": "upper-monthly",
   "metadata": {},
   "outputs": [],
   "source": [
    "# hyper parameter for random forest tuning\n",
    "\n",
    "n_estimators = [50, 100, 150, 200]\n",
    "\n",
    "max_depth = [15, 20, 25, 30, 35, 40]\n",
    "\n",
    "# Create the random grid\n",
    "params = {'rf__n_estimators': n_estimators,\n",
    "          'rf__max_depth': max_depth\n",
    "         }\n",
    "cv_rf = RepeatedStratifiedKFold(n_splits=4, n_repeats=2)"
   ]
  },
  {
   "cell_type": "code",
   "execution_count": 48,
   "id": "loving-power",
   "metadata": {},
   "outputs": [],
   "source": [
    "rf_random = GridSearchCV(estimator = pipeline_rf, \n",
    "                         param_grid = params, \n",
    "                         cv = cv_rf,\n",
    "                         n_jobs = 8,\n",
    "                         scoring='f1_micro',\n",
    "                         return_train_score=False,\n",
    "                         verbose=3)"
   ]
  },
  {
   "cell_type": "code",
   "execution_count": 49,
   "id": "elegant-papua",
   "metadata": {},
   "outputs": [
    {
     "name": "stdout",
     "output_type": "stream",
     "text": [
      "Fitting 8 folds for each of 24 candidates, totalling 192 fits\n"
     ]
    },
    {
     "data": {
      "text/plain": [
       "GridSearchCV(cv=RepeatedStratifiedKFold(n_repeats=2, n_splits=4, random_state=None),\n",
       "             estimator=Pipeline(steps=[('tfidf', TfidfVectorizer()),\n",
       "                                       ('over',\n",
       "                                        RandomOverSampler(sampling_strategy='minority')),\n",
       "                                       ('rf', RandomForestClassifier())]),\n",
       "             n_jobs=8,\n",
       "             param_grid={'rf__max_depth': [15, 20, 25, 30, 35, 40],\n",
       "                         'rf__n_estimators': [50, 100, 150, 200]},\n",
       "             scoring='f1_micro', verbose=3)"
      ]
     },
     "execution_count": 49,
     "metadata": {},
     "output_type": "execute_result"
    }
   ],
   "source": [
    "# Fit the random search model\n",
    "rf_random.fit(X_train, y_train)\n",
    "# took about 3 hours"
   ]
  },
  {
   "cell_type": "code",
   "execution_count": 50,
   "id": "southern-basic",
   "metadata": {},
   "outputs": [
    {
     "data": {
      "text/plain": [
       "{'rf__max_depth': 40, 'rf__n_estimators': 200}"
      ]
     },
     "execution_count": 50,
     "metadata": {},
     "output_type": "execute_result"
    }
   ],
   "source": [
    "best_rf= rf_random.best_estimator_\n",
    "rf_random.best_params_"
   ]
  },
  {
   "cell_type": "code",
   "execution_count": 56,
   "id": "cross-filing",
   "metadata": {},
   "outputs": [
    {
     "data": {
      "text/plain": [
       "['doc_clf_best_estimator.pkl']"
      ]
     },
     "execution_count": 56,
     "metadata": {},
     "output_type": "execute_result"
    }
   ],
   "source": [
    "joblib.dump(best_rf, 'doc_clf_best_estimator.pkl')"
   ]
  },
  {
   "cell_type": "code",
   "execution_count": 52,
   "id": "copyrighted-pencil",
   "metadata": {},
   "outputs": [
    {
     "data": {
      "text/plain": [
       "0.818770071309834"
      ]
     },
     "execution_count": 52,
     "metadata": {},
     "output_type": "execute_result"
    }
   ],
   "source": [
    "rf_random.best_score_"
   ]
  },
  {
   "cell_type": "code",
   "execution_count": 51,
   "id": "dedicated-flush",
   "metadata": {},
   "outputs": [
    {
     "data": {
      "text/plain": [
       "0.8168704418704419"
      ]
     },
     "execution_count": 51,
     "metadata": {},
     "output_type": "execute_result"
    }
   ],
   "source": [
    "best_rf.score(X_test, y_test)"
   ]
  },
  {
   "cell_type": "code",
   "execution_count": 53,
   "id": "velvet-leather",
   "metadata": {},
   "outputs": [],
   "source": [
    "predicted = best_rf.predict(X_test)"
   ]
  },
  {
   "cell_type": "code",
   "execution_count": 54,
   "id": "threatened-finish",
   "metadata": {},
   "outputs": [
    {
     "data": {
      "text/plain": [
       "0.8168704418704419"
      ]
     },
     "execution_count": 54,
     "metadata": {},
     "output_type": "execute_result"
    }
   ],
   "source": [
    "metrics.accuracy_score(y_test, predicted)"
   ]
  },
  {
   "cell_type": "code",
   "execution_count": 55,
   "id": "residential-melbourne",
   "metadata": {},
   "outputs": [
    {
     "name": "stdout",
     "output_type": "stream",
     "text": [
      "                         precision    recall  f1-score   support\n",
      "\n",
      "            APPLICATION       0.80      0.57      0.66        69\n",
      "                   BILL       0.84      0.93      0.88      5688\n",
      "            BILL BINDER       0.52      0.13      0.20        87\n",
      "                 BINDER       0.83      0.87      0.85      2685\n",
      "    CANCELLATION NOTICE       0.71      0.82      0.76      2919\n",
      "     CHANGE ENDORSEMENT       0.86      0.78      0.81       267\n",
      "            DECLARATION       0.55      0.06      0.10       290\n",
      "   DELETION OF INTEREST       0.95      0.74      0.83      1448\n",
      "      EXPIRATION NOTICE       0.88      0.40      0.55       220\n",
      "INTENT TO CANCEL NOTICE       0.83      0.22      0.35        68\n",
      "     NON-RENEWAL NOTICE       1.00      0.10      0.18       187\n",
      "          POLICY CHANGE       0.79      0.82      0.80      3185\n",
      "   REINSTATEMENT NOTICE       0.95      0.79      0.86      1310\n",
      "         RETURNED CHECK       0.96      0.59      0.73       225\n",
      "\n",
      "               accuracy                           0.82     18648\n",
      "              macro avg       0.82      0.56      0.61     18648\n",
      "           weighted avg       0.82      0.82      0.81     18648\n",
      "\n"
     ]
    },
    {
     "data": {
      "text/plain": [
       "array([[  39,    3,    0,   21,    0,    0,    0,    0,    0,    0,    0,\n",
       "           5,    0,    1],\n",
       "       [   2, 5275,    9,   86,  140,    0,    6,    0,    4,    1,    0,\n",
       "         157,    6,    2],\n",
       "       [   0,   41,   11,   17,    0,    0,    0,    0,    0,    0,    0,\n",
       "          18,    0,    0],\n",
       "       [   3,  102,    0, 2327,   11,    1,    4,    1,    0,    0,    0,\n",
       "         233,    2,    1],\n",
       "       [   0,  317,    0,   25, 2400,    0,    1,   43,    3,    2,    0,\n",
       "          99,   29,    0],\n",
       "       [   0,   11,    0,    4,    8,  207,    0,    0,    0,    0,    0,\n",
       "          37,    0,    0],\n",
       "       [   2,   48,    0,  154,   18,    0,   16,    8,    0,    0,    0,\n",
       "          38,    4,    2],\n",
       "       [   0,    9,    0,    1,  354,    3,    0, 1067,    0,    0,    0,\n",
       "          14,    0,    0],\n",
       "       [   0,   70,    0,    1,   51,    0,    0,    1,   88,    0,    0,\n",
       "           8,    1,    0],\n",
       "       [   0,   27,    0,    2,   22,    0,    0,    1,    0,   15,    0,\n",
       "           1,    0,    0],\n",
       "       [   0,    2,    0,    0,  153,    0,    0,    0,    0,    0,   19,\n",
       "          12,    1,    0],\n",
       "       [   3,  311,    1,  151,   69,   30,    2,    2,    5,    0,    0,\n",
       "        2603,    8,    0],\n",
       "       [   0,   40,    0,    7,  173,    0,    0,    1,    0,    0,    0,\n",
       "          56, 1033,    0],\n",
       "       [   0,   56,    0,    2,    1,    0,    0,    0,    0,    0,    0,\n",
       "          33,    0,  133]])"
      ]
     },
     "execution_count": 55,
     "metadata": {},
     "output_type": "execute_result"
    }
   ],
   "source": [
    "print(metrics.classification_report(y_test, predicted)),\n",
    "metrics.confusion_matrix(y_test, predicted)"
   ]
  },
  {
   "cell_type": "code",
   "execution_count": 11,
   "id": "ecological-gospel",
   "metadata": {},
   "outputs": [],
   "source": [
    "# Train a light version since AWS lambda would time out with the above model\n",
    "pipe_rf_light = Pipeline(\n",
    "    [('tfidf', TfidfVectorizer()),\n",
    "     ('over', RandomOverSampler(sampling_strategy='minority')),\n",
    "     ('rf', RandomForestClassifier(n_estimators = 100, max_depth = 30, n_jobs = 8))\n",
    "    ])"
   ]
  },
  {
   "cell_type": "code",
   "execution_count": 12,
   "id": "important-rapid",
   "metadata": {},
   "outputs": [
    {
     "data": {
      "text/plain": [
       "Pipeline(steps=[('tfidf', TfidfVectorizer()),\n",
       "                ('over', RandomOverSampler(sampling_strategy='minority')),\n",
       "                ('rf', RandomForestClassifier(max_depth=30, n_jobs=8))])"
      ]
     },
     "execution_count": 12,
     "metadata": {},
     "output_type": "execute_result"
    }
   ],
   "source": [
    "pipe_rf_light.fit(X_train, y_train)"
   ]
  },
  {
   "cell_type": "code",
   "execution_count": 13,
   "id": "academic-freight",
   "metadata": {},
   "outputs": [
    {
     "data": {
      "text/plain": [
       "['doc_clf_best_estimator.pkl']"
      ]
     },
     "execution_count": 13,
     "metadata": {},
     "output_type": "execute_result"
    }
   ],
   "source": [
    "joblib.dump(pipe_rf_light, 'doc_clf_best_estimator.pkl')"
   ]
  },
  {
   "cell_type": "code",
   "execution_count": 14,
   "id": "generic-rogers",
   "metadata": {},
   "outputs": [
    {
     "data": {
      "text/plain": [
       "0.7874839124839125"
      ]
     },
     "execution_count": 14,
     "metadata": {},
     "output_type": "execute_result"
    }
   ],
   "source": [
    "predicted = pipe_rf_light.predict(X_test)\n",
    "metrics.accuracy_score(y_test, predicted)"
   ]
  },
  {
   "cell_type": "code",
   "execution_count": 15,
   "id": "extensive-stuart",
   "metadata": {},
   "outputs": [
    {
     "name": "stdout",
     "output_type": "stream",
     "text": [
      "                         precision    recall  f1-score   support\n",
      "\n",
      "            APPLICATION       0.78      0.55      0.64        69\n",
      "                   BILL       0.77      0.94      0.85      5688\n",
      "            BILL BINDER       0.29      0.02      0.04        87\n",
      "                 BINDER       0.84      0.85      0.84      2685\n",
      "    CANCELLATION NOTICE       0.66      0.78      0.72      2919\n",
      "     CHANGE ENDORSEMENT       0.88      0.77      0.82       267\n",
      "            DECLARATION       0.58      0.02      0.05       290\n",
      "   DELETION OF INTEREST       0.94      0.69      0.80      1448\n",
      "      EXPIRATION NOTICE       0.95      0.25      0.39       220\n",
      "INTENT TO CANCEL NOTICE       1.00      0.18      0.30        68\n",
      "     NON-RENEWAL NOTICE       1.00      0.07      0.13       187\n",
      "          POLICY CHANGE       0.79      0.78      0.79      3185\n",
      "   REINSTATEMENT NOTICE       0.96      0.65      0.78      1310\n",
      "         RETURNED CHECK       0.97      0.40      0.57       225\n",
      "\n",
      "               accuracy                           0.79     18648\n",
      "              macro avg       0.81      0.50      0.55     18648\n",
      "           weighted avg       0.80      0.79      0.77     18648\n",
      "\n"
     ]
    },
    {
     "data": {
      "text/plain": [
       "array([[  38,    4,    0,   21,    0,    0,    0,    0,    0,    0,    0,\n",
       "           5,    0,    1],\n",
       "       [   2, 5349,    5,   77,  122,    0,    2,    0,    1,    0,    0,\n",
       "         124,    5,    1],\n",
       "       [   0,   58,    2,   18,    0,    0,    0,    0,    0,    0,    0,\n",
       "           9,    0,    0],\n",
       "       [   3,  143,    0, 2279,   10,    0,    2,    0,    0,    0,    0,\n",
       "         247,    1,    0],\n",
       "       [   1,  448,    0,   22, 2282,    0,    0,   48,    2,    0,    0,\n",
       "          94,   22,    0],\n",
       "       [   0,   21,    0,    5,    6,  206,    0,    0,    0,    0,    0,\n",
       "          29,    0,    0],\n",
       "       [   2,   69,    0,  141,   18,    0,    7,    8,    0,    0,    0,\n",
       "          40,    4,    1],\n",
       "       [   0,   27,    0,    1,  402,    3,    0,  998,    0,    0,    0,\n",
       "          17,    0,    0],\n",
       "       [   0,  100,    0,    1,   50,    0,    0,    1,   54,    0,    0,\n",
       "          12,    2,    0],\n",
       "       [   0,   29,    0,    3,   23,    0,    0,    1,    0,   12,    0,\n",
       "           0,    0,    0],\n",
       "       [   0,   12,    0,    0,  151,    0,    0,    0,    0,    0,   13,\n",
       "          11,    0,    0],\n",
       "       [   3,  429,    0,  146,   75,   24,    1,    2,    0,    0,    0,\n",
       "        2499,    6,    0],\n",
       "       [   0,   99,    0,    6,  299,    0,    0,    2,    0,    0,    0,\n",
       "          48,  856,    0],\n",
       "       [   0,  115,    0,    1,    2,    0,    0,    0,    0,    0,    0,\n",
       "          17,    0,   90]])"
      ]
     },
     "execution_count": 15,
     "metadata": {},
     "output_type": "execute_result"
    }
   ],
   "source": [
    "print(metrics.classification_report(y_test, predicted)),\n",
    "metrics.confusion_matrix(y_test, predicted)"
   ]
  },
  {
   "cell_type": "code",
   "execution_count": null,
   "id": "grateful-brick",
   "metadata": {},
   "outputs": [],
   "source": []
  }
 ],
 "metadata": {
  "kernelspec": {
   "display_name": "Python 3",
   "language": "python",
   "name": "python3"
  },
  "language_info": {
   "codemirror_mode": {
    "name": "ipython",
    "version": 3
   },
   "file_extension": ".py",
   "mimetype": "text/x-python",
   "name": "python",
   "nbconvert_exporter": "python",
   "pygments_lexer": "ipython3",
   "version": "3.8.5"
  }
 },
 "nbformat": 4,
 "nbformat_minor": 5
}
